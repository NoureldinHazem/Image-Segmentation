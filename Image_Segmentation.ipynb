{
  "cells": [
    {
      "cell_type": "markdown",
      "metadata": {
        "id": "-mKxJaUqKdJo"
      },
      "source": [
        "Connecting drive"
      ]
    },
    {
      "cell_type": "code",
      "execution_count": null,
      "metadata": {
        "colab": {
          "base_uri": "https://localhost:8080/"
        },
        "id": "-BjoFJ036jsx",
        "outputId": "76e00da5-8051-41b0-e2cd-543921cd4baa"
      },
      "outputs": [
        {
          "output_type": "stream",
          "name": "stdout",
          "text": [
            "Mounted at /content/gdrive\n"
          ]
        }
      ],
      "source": [
        "from google.colab import drive  \n",
        "drive.mount('/content/gdrive')"
      ]
    },
    {
      "cell_type": "markdown",
      "metadata": {
        "id": "I6Ynjq-9NRte"
      },
      "source": [
        "**Function for reading images**"
      ]
    },
    {
      "cell_type": "code",
      "execution_count": null,
      "metadata": {
        "id": "jV3NL3tr_CBU"
      },
      "outputs": [],
      "source": [
        "import numpy as np\n",
        "import cv2\n",
        "\n",
        "def read_images(folder,count):\n",
        "  data = []\n",
        "  for i in range(1, count+1):  \n",
        "    img = cv2.imread('/content/gdrive/MyDrive/assigm2_data/'+folder+'/'+folder+str(i)+'.jpg')\n",
        "    img_col = np.array(img) \n",
        "    #image will be flatten further more...\n",
        "    subject = int(i)\n",
        "    data.append(img_col)\n",
        "  return np.array(data)"
      ]
    },
    {
      "cell_type": "code",
      "execution_count": null,
      "metadata": {
        "colab": {
          "base_uri": "https://localhost:8080/"
        },
        "id": "efDmAR2mc4c-",
        "outputId": "386d6687-96fc-48ff-9bb0-aba415b34a1d"
      },
      "outputs": [
        {
          "output_type": "stream",
          "name": "stderr",
          "text": [
            "/usr/local/lib/python3.7/dist-packages/ipykernel_launcher.py:12: VisibleDeprecationWarning: Creating an ndarray from ragged nested sequences (which is a list-or-tuple of lists-or-tuples-or ndarrays with different lengths or shapes) is deprecated. If you meant to do this, you must specify 'dtype=object' when creating the ndarray.\n",
            "  if sys.path[0] == '':\n"
          ]
        }
      ],
      "source": [
        "test=read_images('test',50)"
      ]
    },
    {
      "cell_type": "markdown",
      "metadata": {
        "id": "p3Vwx8cwdBnY"
      },
      "source": [
        "**Function to read ground truth and save as jpg image**"
      ]
    },
    {
      "cell_type": "code",
      "execution_count": null,
      "metadata": {
        "id": "81wqmdtnc1cA"
      },
      "outputs": [],
      "source": [
        "from scipy import io\n",
        "import os\n",
        "from imageio import imwrite\n",
        "import matplotlib.image as mpimg\n",
        "def read_mat_borderlines(folder,count):\n",
        "  save_pth1='/content/gdrive/MyDrive/assigm2_data/'+folder+'/'+'border_lines/'\n",
        "  os.makedirs(save_pth1,exist_ok=True)\n",
        "  for i in range(1,count+1):\n",
        "    data = io.loadmat('/content/gdrive/MyDrive/assigm2_data/'+folder+'/'+folder+str(i))\n",
        "    for j in range (len(data['groundTruth'][0])): \n",
        "      edge_data = (data['groundTruth'][0][j][0][0][1]).astype(np.uint8)  \n",
        "      edge_data_255 = edge_data * 255\n",
        "      new_img_name = folder.split('.')[0]+'_border_lines'+str(i)+'_'+str(j)+'.jpg'\n",
        "      imwrite(os.path.join(save_pth1,new_img_name), edge_data_255)     "
      ]
    },
    {
      "cell_type": "code",
      "execution_count": null,
      "metadata": {
        "id": "auNSlnBBMoJ4"
      },
      "outputs": [],
      "source": [
        "def read_mat_colored_segment(folder,count):\n",
        "  save_pth2='/content/gdrive/MyDrive/assigm2_data/'+folder+'/'+'colored_segments'+'/'\n",
        "  os.makedirs(save_pth2,exist_ok=True)\n",
        "  for i in range(1,count+1):\n",
        "    data = io.loadmat('/content/gdrive/MyDrive/assigm2_data/'+folder+'/'+folder+str(i))\n",
        "    for j in range (len(data['groundTruth'][0])): \n",
        "      edge_data = (data['groundTruth'][0][j][0][0][0]).astype(np.uint8)  \n",
        "      edge_data_255 = edge_data * 255\n",
        "      new_img_name = folder.split('.')[0]+'_colored'+str(i)+'_'+str(j)+'.jpg'\n",
        "      path=os.path.join(save_pth2+new_img_name)\n",
        "      mpimg.imsave(path,edge_data_255)  "
      ]
    },
    {
      "cell_type": "code",
      "execution_count": null,
      "metadata": {
        "id": "f4x6_NxkLIv5"
      },
      "outputs": [],
      "source": [
        "ground_truth_test_borderlines=read_mat_borderlines('ground_truth_test',50)"
      ]
    },
    {
      "cell_type": "code",
      "execution_count": null,
      "metadata": {
        "id": "_uXTJBIETeLq"
      },
      "outputs": [],
      "source": [
        "ground_truth_test_colored=read_mat_colored_segment('ground_truth_test',50)"
      ]
    },
    {
      "cell_type": "code",
      "execution_count": null,
      "metadata": {
        "id": "335oIHWMaUs6"
      },
      "outputs": [],
      "source": [
        "import random\n",
        "def k_means(data,k):\n",
        "  centroids = []\n",
        "  for i in range(0,k):\n",
        "    centroids.append(random.choice(data))\n",
        "  while True:\n",
        "    cluster_set = np.empty((k, 0)).tolist()  \n",
        "    newCentroids = []\n",
        "    cluster_index = []\n",
        "    distance = []\n",
        "    for i in range(0,len(data)):\n",
        "      row = []\n",
        "      for j in range(0,k):\n",
        "        row.append(np.linalg.norm(data[i] - centroids[j]))\n",
        "      distance.append(row)\n",
        "    distance = np.array(distance)   \n",
        "    for i in range(0,len(data)):\n",
        "      for j in range(0,k):\n",
        "        if (np.argmin(distance[i]))==j:\n",
        "          cluster_set[j].append(data[i])\n",
        "          cluster_index.append(j)\n",
        "    cluster_set= np.array(cluster_set)\n",
        "    for n in range(k):\n",
        "      if len(cluster_set[n])==0:\n",
        "        centroids[n]=random.choice(data)\n",
        "      else:\n",
        "        row =sum((cluster_set[n])[:])/len(cluster_set[n])\n",
        "        newCentroids.append(row)\n",
        "    newCentroids=centroids.copy()\n",
        "    if np.sum(newCentroids) != np.sum(centroids):\n",
        "        centroids= newCentroids\n",
        "    else:\n",
        "      break\n",
        "  cluster_index=np.array(cluster_index)\n",
        "  return cluster_index"
      ]
    },
    {
      "cell_type": "code",
      "execution_count": null,
      "metadata": {
        "id": "VsZ_ZqvGnM70"
      },
      "outputs": [],
      "source": [
        "def save_images(folder,pixels,k,j,number,name):\n",
        "  save_pth='/content/gdrive/MyDrive/assigm2_data/'+folder+'/'+name+str(number)+'/'\n",
        "  os.makedirs(save_pth,exist_ok=True)\n",
        "  new_img_name =str(j)+'_kmeans_'+'_'+str(k)+'.jpg'\n",
        "  path=os.path.join(save_pth+new_img_name)\n",
        "  mpimg.imsave(path,pixels)  "
      ]
    },
    {
      "cell_type": "code",
      "execution_count": null,
      "metadata": {
        "id": "vKyfDjapff7L"
      },
      "outputs": [],
      "source": [
        "import matplotlib.pyplot as plt\n",
        "for k in range (1,6):\n",
        "  for i in range(0,50):\n",
        "    for j in range (3,12,2):\n",
        "      pixels=k_means(test[i].reshape(test[i].shape[0]*test[i].shape[1],test[i].shape[2]),j)\n",
        "      pixels = pixels.reshape(test[i].shape[0],test[i].shape[1])\n",
        "      save_images('ground_truth_test',pixels,j,i,k,'images')"
      ]
    },
    {
      "cell_type": "code",
      "execution_count": null,
      "metadata": {
        "id": "GAaVVLRG7xL3"
      },
      "outputs": [],
      "source": [
        "def readAndResize(folder,count,scale_percent):\n",
        "  for i in range(1,count+1):\n",
        "    img = cv2.imread('/content/gdrive/MyDrive/assigm2_data/'+folder+'/'+folder+str(i)+'.jpg') #need to be edited \n",
        "    width = int(img.shape[1] * scale_percent / 100) \n",
        "    height = int(img.shape[0] * scale_percent / 100)\n",
        "    dim = (width, height)\n",
        "    resized_image = cv2.resize(img, dim, interpolation = cv2.INTER_AREA)\n",
        "    save_pth='/content/gdrive/MyDrive/assigm2_data/'+'resized'+'/'+'res'+str(i)+'.jpg'\n",
        "    cv2.imwrite(save_pth,resized_image)\n"
      ]
    },
    {
      "cell_type": "code",
      "execution_count": null,
      "metadata": {
        "id": "oiVsCHqMTNUT"
      },
      "outputs": [],
      "source": [
        "readAndResize('test',50,25)"
      ]
    },
    {
      "cell_type": "code",
      "execution_count": null,
      "metadata": {
        "id": "LWDYAz88M9eH"
      },
      "outputs": [],
      "source": [
        "def calcDistanceMatrix(data):\n",
        "  data=data.reshape(data.shape[0]*data.shape[1],data.shape[2])\n",
        "  distanceMat=[]\n",
        "  for i in range(data.shape[0]):\n",
        "    distanceMat.append(np.linalg.norm((data[i]-data),axis=1))\n",
        "  return np.array(distanceMat)"
      ]
    },
    {
      "cell_type": "code",
      "execution_count": null,
      "metadata": {
        "id": "AoHPn_vhq3Bs"
      },
      "outputs": [],
      "source": [
        "from sklearn.cluster import KMeans\n",
        "from sklearn.neighbors import kneighbors_graph\n",
        "\n",
        "def normCut(data, k, knn):\n",
        "\n",
        "  distMatrix=calcDistanceMatrix(data)\n",
        "  #connectivity here referes to ones and zeros not distance ,include self refers to not to consider the point itself to be neighbor\n",
        "  adj = kneighbors_graph(distMatrix , knn , mode='connectivity', include_self=False).toarray() \n",
        "  degree = np.diag(np.sum(adj, axis=1))\n",
        "  L = np.subtract(degree,adj)\n",
        "  eigen_values, eigen_vectors = np.linalg.eig(np.dot(np.linalg.inv(degree),L))\n",
        "\n",
        "  sorted_eigen_vectors = eigen_vectors[:,eigen_values.argsort()][:,0:k]\n",
        "  for i in range(k):\n",
        "    sorted_eigen_vectors[:,i] = sorted_eigen_vectors[:,i] / np.linalg.norm(sorted_eigen_vectors[:,i])\n",
        "\n",
        "  km = KMeans(n_clusters=k).fit(np.real(sorted_eigen_vectors))\n",
        "  return km.labels_"
      ]
    },
    {
      "cell_type": "code",
      "execution_count": null,
      "metadata": {
        "id": "0a1um3SAtJ2W"
      },
      "outputs": [],
      "source": [
        "import cv2\n",
        "import matplotlib.pyplot as plt\n",
        "import numpy as np\n",
        "def norm_cut_save(num):\n",
        "  test = cv2.imread('/content/gdrive/MyDrive/assigm2_data/resized/res'+str(num)+'.jpg') #need to be edited \n",
        "  result=normCut(test,5,5)\n",
        "  result = result.reshape(test.shape[0],test.shape[1])\n",
        "  mpimg.imsave('/content/gdrive/MyDrive/assigm2_data/normalized_cut/'+str(num)+'_Normcut.jpg',result)  "
      ]
    },
    {
      "cell_type": "code",
      "execution_count": null,
      "metadata": {
        "id": "mzr4nAXM397u"
      },
      "outputs": [],
      "source": [
        "norm_cut_save(1)\n",
        "norm_cut_save(2)\n",
        "norm_cut_save(3)\n",
        "norm_cut_save(4)\n",
        "norm_cut_save(20)\n",
        "norm_cut_save(48)"
      ]
    },
    {
      "cell_type": "code",
      "execution_count": null,
      "metadata": {
        "id": "Hp2P7Dz4idRc"
      },
      "outputs": [],
      "source": [
        "def mask(kmeans,ground_truth):\n",
        "  x,y=np.unique(kmeans,return_counts=True)\n",
        "  kmeans_unique=sort_lists(x, y)\n",
        "  x,y=np.unique(ground_truth,return_counts=True)\n",
        "  ground_truth_unique=sort_lists(x, y)\n",
        "  if len(kmeans_unique)<=len(ground_truth_unique):\n",
        "    for i in range(0,len(kmeans_unique)-1):\n",
        "      ground_truth=np.where(ground_truth==ground_truth_unique[i],kmeans_unique[i]+500,ground_truth)\n",
        "    ground_truth=np.where(ground_truth<500,kmeans_unique[-1]+500,ground_truth)\n",
        "    ground_truth=[x - 500 for x in ground_truth]\n",
        "  else:\n",
        "    for i in range(0,len(ground_truth_unique)-1):\n",
        "      kmeans=np.where(kmeans==kmeans_unique[i],ground_truth_unique[i]+500,kmeans)\n",
        "    kmeans=np.where(kmeans<500,ground_truth_unique[-1]+500,kmeans)\n",
        "    kmeans=[x - 500 for x in kmeans]\n",
        "  return kmeans,ground_truth"
      ]
    },
    {
      "cell_type": "code",
      "execution_count": null,
      "metadata": {
        "id": "YWeUoLEIojbF"
      },
      "outputs": [],
      "source": [
        "def sort_lists(list1, list2):\n",
        "    zipped_pairs = zip(list2, list1)\n",
        "    z = [x for _, x in sorted(zipped_pairs,reverse=True)]\n",
        "    return z"
      ]
    },
    {
      "cell_type": "code",
      "execution_count": null,
      "metadata": {
        "id": "uW7gMno9mOq5"
      },
      "outputs": [],
      "source": [
        "from sklearn.metrics.cluster import contingency_matrix\n",
        "import math\n",
        "def measures():\n",
        "  f_measure_list=[]\n",
        "  Conditional_Entropy_list=[]\n",
        "  for i in range (1,51):\n",
        "    data = io.loadmat('/content/gdrive/MyDrive/assigm2_data/'+'ground_truth_test'+'/'+'ground_truth_test'+str(i))\n",
        "    #print('------------------------------')\n",
        "    #print('Image Number ',i)\n",
        "    #print('---------------------')\n",
        "    for k in range(3,12,2):\n",
        "      f_measure=0\n",
        "      f_score=0\n",
        "      Conditional_Entropy=0\n",
        "      Conditional_Entropy_score=0\n",
        "      for j in range(0,len(data['groundTruth'][0])):\n",
        "        ground_truth = (data['groundTruth'][0][j][0][0][0]).astype(np.uint8)\n",
        "        test = cv2.imread('/content/gdrive/MyDrive/assigm2_data/test/test'+str(i)+'.jpg')  \n",
        "        pixels=k_means(test.reshape(test.shape[0]*test.shape[1],test.shape[2]),k)\n",
        "        kmeans_labels,groundTruth_labels=mask(pixels,ground_truth)\n",
        "        contingency_mat = contingency_matrix (groundTruth_labels,kmeans_labels)\n",
        "        for x in range (len(contingency_mat[0,:])):\n",
        "          max = np.argmax(contingency_mat[:,x])\n",
        "          precision =contingency_mat[max,x]/np.sum(contingency_mat[:,x])\n",
        "          recall = contingency_mat[max,x]/np.sum(contingency_mat[max,:])\n",
        "          f_measure+=(2*precision*recall)/(precision+recall)\n",
        "        for y in range (len(contingency_mat[0,:])):\n",
        "          entropy = 0\n",
        "          Conditional_Entropy=0\n",
        "          for z in range (len(contingency_mat)):\n",
        "            if(contingency_mat[z][y]!=0.0):\n",
        "              temp = contingency_mat[z][y]/sum(contingency_mat[:,y])\n",
        "              entropy-=(temp)*math.log2(temp)\n",
        "          Conditional_Entropy+=(sum(contingency_mat[:,y])/(len(pixels)))*entropy\n",
        "          Conditional_Entropy_score+=Conditional_Entropy\n",
        "        f_measure=f_measure/len(contingency_mat[0,:])\n",
        "        f_score+=f_measure\n",
        "      f_score=f_score/len(data['groundTruth'][0]) \n",
        "      f_measure_list.append(f_score)\n",
        "      Conditional_Entropy_score=Conditional_Entropy_score/len(data['groundTruth'][0]) \n",
        "      Conditional_Entropy_list.append(Conditional_Entropy_score)\n",
        "      #print('f_measure (',k,'means) = ',f_score)\n",
        "      #print('Conditional_Entropy (',k,'means) = ',Conditional_Entropy_score)\n",
        "  return f_measure_list,Conditional_Entropy_list"
      ]
    },
    {
      "cell_type": "code",
      "source": [
        "from prettytable import PrettyTable\n",
        "def print_results(f_measure,conditional_entropy,i):\n",
        "  print('Image :',i+1) \n",
        "  # Specify the Column Names while initializing the Table\n",
        "  myTable = PrettyTable([\"k_means\", \"F measure\", \"Conditional entropy\"])\n",
        " \n",
        "  # Add rows\n",
        "  myTable.add_row([\"3\", f_measure[(i*5)], conditional_entropy[(i*5)]])\n",
        "  myTable.add_row([\"5\", f_measure[(i*5)+1], conditional_entropy[(i*5)+1]])\n",
        "  myTable.add_row([\"7\", f_measure[(i*5)+2], conditional_entropy[(i*5)+2]])\n",
        "  myTable.add_row([\"9\", f_measure[(i*5)+3], conditional_entropy[(i*5)+3]])\n",
        "  myTable.add_row([\"11\", f_measure[(i*5)+4], conditional_entropy[(i*5)+4]])\n",
        "\n",
        "  print(myTable)"
      ],
      "metadata": {
        "id": "hWkLI94JcjdJ"
      },
      "execution_count": null,
      "outputs": []
    },
    {
      "cell_type": "code",
      "source": [
        "f_measure1,conditional_entropy1=measures()"
      ],
      "metadata": {
        "colab": {
          "base_uri": "https://localhost:8080/"
        },
        "id": "2mEqmpHnn0-3",
        "outputId": "596b2b39-cac8-48f4-f620-0345f09241d3"
      },
      "execution_count": null,
      "outputs": [
        {
          "output_type": "stream",
          "name": "stderr",
          "text": [
            "/usr/local/lib/python3.7/dist-packages/ipykernel_launcher.py:22: VisibleDeprecationWarning: Creating an ndarray from ragged nested sequences (which is a list-or-tuple of lists-or-tuples-or ndarrays with different lengths or shapes) is deprecated. If you meant to do this, you must specify 'dtype=object' when creating the ndarray.\n"
          ]
        }
      ]
    },
    {
      "cell_type": "code",
      "source": [
        "for i in range (0,int(len(f_measure1)/5)):\n",
        "  print_results(f_measure1,conditional_entropy1,i)"
      ],
      "metadata": {
        "colab": {
          "base_uri": "https://localhost:8080/"
        },
        "id": "kji5KVgqfHyA",
        "outputId": "652db502-237d-4389-ea2e-ff600e11af53"
      },
      "execution_count": null,
      "outputs": [
        {
          "output_type": "stream",
          "name": "stdout",
          "text": [
            "Image : 1\n",
            "+---------+---------------------+---------------------+\n",
            "| k_means |      F measure      | Conditional entropy |\n",
            "+---------+---------------------+---------------------+\n",
            "|    3    |  0.5754384809868774 |  1.300240078294118  |\n",
            "|    5    | 0.42764476846281163 |  1.7911298914538005 |\n",
            "|    7    | 0.39831946530711865 |  1.826494292168676  |\n",
            "|    9    | 0.33460854304829074 |  1.900435125392765  |\n",
            "|    11   | 0.32368553076403483 |  1.8772767758791613 |\n",
            "+---------+---------------------+---------------------+\n",
            "Image : 2\n",
            "+---------+--------------------+---------------------+\n",
            "| k_means |     F measure      | Conditional entropy |\n",
            "+---------+--------------------+---------------------+\n",
            "|    3    | 0.7118976391482597 |  0.6610827735962425 |\n",
            "|    5    | 0.6158729341420218 |  0.7264442222773774 |\n",
            "|    7    | 0.6004715424152759 |  0.7274175959620076 |\n",
            "|    9    | 0.6227956311254709 |  0.652890263553881  |\n",
            "|    11   | 0.5303982164575859 |  0.6968891125965325 |\n",
            "+---------+--------------------+---------------------+\n",
            "Image : 3\n",
            "+---------+---------------------+---------------------+\n",
            "| k_means |      F measure      | Conditional entropy |\n",
            "+---------+---------------------+---------------------+\n",
            "|    3    |  0.6227581588165327 |  1.1579050986815196 |\n",
            "|    5    | 0.40512664519762326 |  1.7508618576819708 |\n",
            "|    7    | 0.36026947957395583 |  2.0922238624080767 |\n",
            "|    9    |  0.3573178809731741 |  2.132438688804999  |\n",
            "|    11   | 0.33485841576394976 |  2.2379792563009957 |\n",
            "+---------+---------------------+---------------------+\n",
            "Image : 4\n",
            "+---------+---------------------+---------------------+\n",
            "| k_means |      F measure      | Conditional entropy |\n",
            "+---------+---------------------+---------------------+\n",
            "|    3    |  0.6427654818380726 |  1.1782337739824764 |\n",
            "|    5    | 0.45320028079621133 |  1.694242060069644  |\n",
            "|    7    |  0.3313426753579686 |  2.033297426966823  |\n",
            "|    9    |  0.2997951649935695 |  2.231852637400592  |\n",
            "|    11   |  0.2779467828479073 |  2.2191103546029187 |\n",
            "+---------+---------------------+---------------------+\n",
            "Image : 5\n",
            "+---------+---------------------+---------------------+\n",
            "| k_means |      F measure      | Conditional entropy |\n",
            "+---------+---------------------+---------------------+\n",
            "|    3    |  0.7300156189145788 |  0.9885528336616524 |\n",
            "|    5    |  0.6023812406425422 |  0.9697129865133525 |\n",
            "|    7    | 0.47776874291881233 |  0.9329060502070581 |\n",
            "|    9    |  0.4388650570042829 |  0.9689988917037551 |\n",
            "|    11   |  0.4286449293461663 |  0.9250985096527904 |\n",
            "+---------+---------------------+---------------------+\n",
            "Image : 6\n",
            "+---------+---------------------+---------------------+\n",
            "| k_means |      F measure      | Conditional entropy |\n",
            "+---------+---------------------+---------------------+\n",
            "|    3    |  0.5790632183720736 |  1.4511319324179013 |\n",
            "|    5    | 0.46317167081342847 |  1.5847519594307364 |\n",
            "|    7    | 0.42584685882522966 |  1.3550694612721272 |\n",
            "|    9    | 0.35265916095515804 |  1.444027036200207  |\n",
            "|    11   |  0.3498131021004127 |  1.3322054063372541 |\n",
            "+---------+---------------------+---------------------+\n",
            "Image : 7\n",
            "+---------+---------------------+---------------------+\n",
            "| k_means |      F measure      | Conditional entropy |\n",
            "+---------+---------------------+---------------------+\n",
            "|    3    |  0.5955551563814219 |  1.2846199242800196 |\n",
            "|    5    |  0.4076024793523426 |  1.3805796498527383 |\n",
            "|    7    | 0.36336435888716073 |  1.4447131489399816 |\n",
            "|    9    | 0.33842746354551884 |  1.407665283434641  |\n",
            "|    11   | 0.29609342339661626 |  1.4139225155062884 |\n",
            "+---------+---------------------+---------------------+\n",
            "Image : 8\n",
            "+---------+---------------------+---------------------+\n",
            "| k_means |      F measure      | Conditional entropy |\n",
            "+---------+---------------------+---------------------+\n",
            "|    3    |  0.5708498871383675 |  0.9275747630083687 |\n",
            "|    5    |  0.3353738165784252 |  1.0832889043333873 |\n",
            "|    7    |  0.3236743095459316 |  0.9949184180901804 |\n",
            "|    9    | 0.23513311484106528 |  1.0636599430162372 |\n",
            "|    11   | 0.22951549845383465 |  1.0143809423615633 |\n",
            "+---------+---------------------+---------------------+\n",
            "Image : 9\n",
            "+---------+---------------------+---------------------+\n",
            "| k_means |      F measure      | Conditional entropy |\n",
            "+---------+---------------------+---------------------+\n",
            "|    3    |  0.6412437558355959 |   1.18012725819668  |\n",
            "|    5    | 0.47477002489576137 |  1.521595532406774  |\n",
            "|    7    |  0.3832400406483903 |  1.849329885248152  |\n",
            "|    9    |  0.3224895232975663 |  2.0411317277645464 |\n",
            "|    11   |  0.2967511693759366 |  2.136481148674504  |\n",
            "+---------+---------------------+---------------------+\n",
            "Image : 10\n",
            "+---------+---------------------+---------------------+\n",
            "| k_means |      F measure      | Conditional entropy |\n",
            "+---------+---------------------+---------------------+\n",
            "|    3    |  0.6687599345308426 |  1.2313643485862689 |\n",
            "|    5    |  0.4406825421842436 |  1.6733677400113551 |\n",
            "|    7    | 0.38271835413044886 |  1.9098792572302943 |\n",
            "|    9    | 0.39389711025517765 |  1.7530288527060878 |\n",
            "|    11   |  0.3040202087882909 |  1.8757149958105133 |\n",
            "+---------+---------------------+---------------------+\n",
            "Image : 11\n",
            "+---------+---------------------+---------------------+\n",
            "| k_means |      F measure      | Conditional entropy |\n",
            "+---------+---------------------+---------------------+\n",
            "|    3    |  0.5758897730315778 |  1.1922004604731415 |\n",
            "|    5    |  0.3328647860922726 |  1.8071734757997224 |\n",
            "|    7    |  0.2827833261415299 |  2.116247046276522  |\n",
            "|    9    | 0.27290624968503097 |  2.3369109338957617 |\n",
            "|    11   | 0.27325245352324845 |  2.532546926652418  |\n",
            "+---------+---------------------+---------------------+\n",
            "Image : 12\n",
            "+---------+---------------------+---------------------+\n",
            "| k_means |      F measure      | Conditional entropy |\n",
            "+---------+---------------------+---------------------+\n",
            "|    3    |  0.6527795354383115 |  1.289501293461316  |\n",
            "|    5    |  0.4153438207296265 |  1.8004077629464625 |\n",
            "|    7    | 0.33382868979986036 |  1.756525630083028  |\n",
            "|    9    | 0.32046626523335114 |  1.741727513232355  |\n",
            "|    11   | 0.30562530334083915 |  1.7108110349912007 |\n",
            "+---------+---------------------+---------------------+\n",
            "Image : 13\n",
            "+---------+---------------------+---------------------+\n",
            "| k_means |      F measure      | Conditional entropy |\n",
            "+---------+---------------------+---------------------+\n",
            "|    3    |   0.57355827526547  |  1.299698196437608  |\n",
            "|    5    | 0.37792514262469823 |  1.9286018233643056 |\n",
            "|    7    |  0.3464104379185577 |  2.145612629230664  |\n",
            "|    9    |  0.325342377576974  |  2.217935106836142  |\n",
            "|    11   |  0.2850759858915902 |  2.2797650401347047 |\n",
            "+---------+---------------------+---------------------+\n",
            "Image : 14\n",
            "+---------+--------------------+---------------------+\n",
            "| k_means |     F measure      | Conditional entropy |\n",
            "+---------+--------------------+---------------------+\n",
            "|    3    | 0.6575392095646718 |  1.1904721399648406 |\n",
            "|    5    | 0.4518393352212979 |  1.6729125796073154 |\n",
            "|    7    | 0.3674971401315427 |  1.8212836441713443 |\n",
            "|    9    | 0.311904358538341  |  1.9615883460629402 |\n",
            "|    11   | 0.3083803542418088 |  1.9163851331995778 |\n",
            "+---------+--------------------+---------------------+\n",
            "Image : 15\n",
            "+---------+---------------------+---------------------+\n",
            "| k_means |      F measure      | Conditional entropy |\n",
            "+---------+---------------------+---------------------+\n",
            "|    3    |  0.6082457740695574 |  0.9511391780882111 |\n",
            "|    5    |  0.3425366505156184 |  1.5535226310070813 |\n",
            "|    7    | 0.28685796888125803 |  1.8374807567586713 |\n",
            "|    9    |  0.2792380778844779 |  2.1062826836909725 |\n",
            "|    11   |  0.2502549055543729 |  2.3669813012608194 |\n",
            "+---------+---------------------+---------------------+\n",
            "Image : 16\n",
            "+---------+--------------------+---------------------+\n",
            "| k_means |     F measure      | Conditional entropy |\n",
            "+---------+--------------------+---------------------+\n",
            "|    3    | 0.7634101108377175 |  1.149804753126591  |\n",
            "|    5    | 0.5486097587294617 |  1.3763383323211604 |\n",
            "|    7    | 0.5099451635256352 |  1.3280671915592046 |\n",
            "|    9    | 0.4078415651499521 |  1.4601557393910305 |\n",
            "|    11   | 0.422881941587336  |  1.204176733336571  |\n",
            "+---------+--------------------+---------------------+\n",
            "Image : 17\n",
            "+---------+--------------------+---------------------+\n",
            "| k_means |     F measure      | Conditional entropy |\n",
            "+---------+--------------------+---------------------+\n",
            "|    3    | 0.6061061685441994 |  1.2868862512729884 |\n",
            "|    5    | 0.489254154005639  |  1.1933913239536218 |\n",
            "|    7    | 0.3365575826223841 |  1.2963427469612385 |\n",
            "|    9    | 0.2683041743125962 |  1.3176715978937759 |\n",
            "|    11   | 0.2274279956431512 |  1.3677519464546546 |\n",
            "+---------+--------------------+---------------------+\n",
            "Image : 18\n",
            "+---------+---------------------+---------------------+\n",
            "| k_means |      F measure      | Conditional entropy |\n",
            "+---------+---------------------+---------------------+\n",
            "|    3    |  0.5706497193331088 |  1.2928171074134258 |\n",
            "|    5    | 0.48386113190398927 |  1.5507559026660493 |\n",
            "|    7    | 0.42338060543916456 |  1.6773165988868617 |\n",
            "|    9    | 0.42536990703032734 |  1.7024055947623757 |\n",
            "|    11   | 0.40018114362842405 |  1.7182735923043897 |\n",
            "+---------+---------------------+---------------------+\n",
            "Image : 19\n",
            "+---------+---------------------+---------------------+\n",
            "| k_means |      F measure      | Conditional entropy |\n",
            "+---------+---------------------+---------------------+\n",
            "|    3    |  0.5919005714194487 |  1.4732016143582685 |\n",
            "|    5    | 0.39714720614402943 |  1.9390753348532819 |\n",
            "|    7    |  0.2957460238980659 |  2.010248699672841  |\n",
            "|    9    | 0.25613904436071544 |  1.973577667725488  |\n",
            "|    11   | 0.22873097641004322 |  2.0010277835174026 |\n",
            "+---------+---------------------+---------------------+\n",
            "Image : 20\n",
            "+---------+--------------------+---------------------+\n",
            "| k_means |     F measure      | Conditional entropy |\n",
            "+---------+--------------------+---------------------+\n",
            "|    3    | 0.6372785255600598 |  1.185384445413995  |\n",
            "|    5    | 0.4562685924012605 |  1.3534808276846384 |\n",
            "|    7    | 0.3318893317504831 |  1.3666942363564447 |\n",
            "|    9    | 0.3094351660262912 |  1.3145583719191583 |\n",
            "|    11   | 0.2676909356620542 |  1.3444492235380865 |\n",
            "+---------+--------------------+---------------------+\n",
            "Image : 21\n",
            "+---------+---------------------+---------------------+\n",
            "| k_means |      F measure      | Conditional entropy |\n",
            "+---------+---------------------+---------------------+\n",
            "|    3    |  0.7763126999679031 |  1.1960435768369402 |\n",
            "|    5    |  0.558535008062316  |  1.1999986127569668 |\n",
            "|    7    | 0.40418056169738376 |  1.3111761571311586 |\n",
            "|    9    | 0.36918392911018993 |  1.3428167454473836 |\n",
            "|    11   | 0.34817270777535775 |  1.229174620351982  |\n",
            "+---------+---------------------+---------------------+\n",
            "Image : 22\n",
            "+---------+---------------------+---------------------+\n",
            "| k_means |      F measure      | Conditional entropy |\n",
            "+---------+---------------------+---------------------+\n",
            "|    3    |  0.7426842892890987 |  1.1517747752267704 |\n",
            "|    5    |  0.5033670164843737 |  1.4115738099408972 |\n",
            "|    7    |  0.5042747643847761 |  1.3784843861846248 |\n",
            "|    9    | 0.46200556843511886 |  1.4523001490272514 |\n",
            "|    11   | 0.43476875848748825 |  1.4501746182009057 |\n",
            "+---------+---------------------+---------------------+\n",
            "Image : 23\n",
            "+---------+---------------------+---------------------+\n",
            "| k_means |      F measure      | Conditional entropy |\n",
            "+---------+---------------------+---------------------+\n",
            "|    3    |  0.6817430246763627 |  1.3663709647935118 |\n",
            "|    5    |  0.5292744067704654 |   1.45715072560833  |\n",
            "|    7    |  0.4322148034474824 |  1.4341060932496477 |\n",
            "|    9    | 0.34595738047985397 |  1.3884228502634748 |\n",
            "|    11   |  0.3440371780529506 |  1.2861010850299153 |\n",
            "+---------+---------------------+---------------------+\n",
            "Image : 24\n",
            "+---------+---------------------+---------------------+\n",
            "| k_means |      F measure      | Conditional entropy |\n",
            "+---------+---------------------+---------------------+\n",
            "|    3    |  0.5898189211779723 |  1.3664787928467874 |\n",
            "|    5    |  0.3824575532891501 |  1.8367942475369368 |\n",
            "|    7    | 0.30829730903336056 |  2.0234821061174753 |\n",
            "|    9    |  0.2721840669900318 |  1.9849635677737414 |\n",
            "|    11   |  0.2518376560108851 |  1.941737869201713  |\n",
            "+---------+---------------------+---------------------+\n",
            "Image : 25\n",
            "+---------+--------------------+---------------------+\n",
            "| k_means |     F measure      | Conditional entropy |\n",
            "+---------+--------------------+---------------------+\n",
            "|    3    | 0.6275671034935322 |  1.3596501777348695 |\n",
            "|    5    | 0.6274711975175694 |  1.3121069586406213 |\n",
            "|    7    | 0.6766585380421489 |  1.1779365889304907 |\n",
            "|    9    | 0.6540138351243031 |  1.2476474885732594 |\n",
            "|    11   | 0.6471437543879092 |  1.2281497994852903 |\n",
            "+---------+--------------------+---------------------+\n",
            "Image : 26\n",
            "+---------+---------------------+---------------------+\n",
            "| k_means |      F measure      | Conditional entropy |\n",
            "+---------+---------------------+---------------------+\n",
            "|    3    |  0.6049924552513585 |  1.013781744200606  |\n",
            "|    5    |  0.4705456264700365 |  1.0666285740955366 |\n",
            "|    7    | 0.46931047238953355 |  1.0749639128881043 |\n",
            "|    9    |  0.4173588355125972 |  1.068398644166436  |\n",
            "|    11   |  0.3821963973981431 |  1.0794263529940613 |\n",
            "+---------+---------------------+---------------------+\n",
            "Image : 27\n",
            "+---------+--------------------+---------------------+\n",
            "| k_means |     F measure      | Conditional entropy |\n",
            "+---------+--------------------+---------------------+\n",
            "|    3    | 0.9332523273947265 |  0.6498238397266723 |\n",
            "|    5    | 0.8813096213558026 |  0.617128330974507  |\n",
            "|    7    | 0.8285335813261309 |  0.6372298011755699 |\n",
            "|    9    | 0.8411762954033708 |  0.6264520556144375 |\n",
            "|    11   | 0.8387713394147036 |  0.5810283501185033 |\n",
            "+---------+--------------------+---------------------+\n",
            "Image : 28\n",
            "+---------+---------------------+---------------------+\n",
            "| k_means |      F measure      | Conditional entropy |\n",
            "+---------+---------------------+---------------------+\n",
            "|    3    |  0.5032144706086485 |  1.3033198546031703 |\n",
            "|    5    | 0.35585276550118394 |  1.8116107608759264 |\n",
            "|    7    |  0.2806797058042719 |  2.1746584379440983 |\n",
            "|    9    | 0.23362129061247622 |  2.324492734620276  |\n",
            "|    11   | 0.20067208877008028 |  2.4207385951459686 |\n",
            "+---------+---------------------+---------------------+\n",
            "Image : 29\n",
            "+---------+--------------------+---------------------+\n",
            "| k_means |     F measure      | Conditional entropy |\n",
            "+---------+--------------------+---------------------+\n",
            "|    3    | 0.5170342000470587 |  1.4544197016878262 |\n",
            "|    5    | 0.3606984880116501 |  1.778652139207041  |\n",
            "|    7    | 0.2785111768773088 |  1.948626936132171  |\n",
            "|    9    |  0.30467657979668  |  1.9075253065969278 |\n",
            "|    11   | 0.286282951897487  |  1.911784267268858  |\n",
            "+---------+--------------------+---------------------+\n",
            "Image : 30\n",
            "+---------+---------------------+---------------------+\n",
            "| k_means |      F measure      | Conditional entropy |\n",
            "+---------+---------------------+---------------------+\n",
            "|    3    |  0.5660113002667515 |  1.2359228664650923 |\n",
            "|    5    |  0.414578985926946  |  1.4591204108965712 |\n",
            "|    7    |  0.3972705676566397 |  1.3754958900734322 |\n",
            "|    9    |  0.3466217672247834 |  1.3490282396947193 |\n",
            "|    11   | 0.29504706692070604 |  1.3333232717797012 |\n",
            "+---------+---------------------+---------------------+\n",
            "Image : 31\n",
            "+---------+---------------------+---------------------+\n",
            "| k_means |      F measure      | Conditional entropy |\n",
            "+---------+---------------------+---------------------+\n",
            "|    3    |  0.5611519584203652 |  1.4200187325292914 |\n",
            "|    5    | 0.44875151516856454 |  1.6895626249080613 |\n",
            "|    7    |  0.3900063117800712 |  1.7051708443789135 |\n",
            "|    9    |  0.3847486571928056 |  1.8566518879677119 |\n",
            "|    11   |  0.4076789800830885 |  1.7763180283270867 |\n",
            "+---------+---------------------+---------------------+\n",
            "Image : 32\n",
            "+---------+---------------------+---------------------+\n",
            "| k_means |      F measure      | Conditional entropy |\n",
            "+---------+---------------------+---------------------+\n",
            "|    3    |  0.5681558922967175 |  1.148573046350994  |\n",
            "|    5    |  0.4541107204791911 |  1.4548285470597953 |\n",
            "|    7    |  0.260233128801769  |  1.8748757200903647 |\n",
            "|    9    | 0.30203482275811344 |  2.0916776062032634 |\n",
            "|    11   |  0.2732919352979167 |  2.2000854212274894 |\n",
            "+---------+---------------------+---------------------+\n",
            "Image : 33\n",
            "+---------+---------------------+---------------------+\n",
            "| k_means |      F measure      | Conditional entropy |\n",
            "+---------+---------------------+---------------------+\n",
            "|    3    |  0.6315414482870059 |  1.2842868545322785 |\n",
            "|    5    | 0.41779634903760315 |  1.6642474670570977 |\n",
            "|    7    |  0.3213870615108819 |  1.8130117318299181 |\n",
            "|    9    | 0.29177845970491323 |  1.7846208974339308 |\n",
            "|    11   | 0.28975121913544066 |  1.7472378955723393 |\n",
            "+---------+---------------------+---------------------+\n",
            "Image : 34\n",
            "+---------+---------------------+---------------------+\n",
            "| k_means |      F measure      | Conditional entropy |\n",
            "+---------+---------------------+---------------------+\n",
            "|    3    |  0.6982575773955135 |  1.2768283498999824 |\n",
            "|    5    |  0.4113997518012735 |  1.7464496514148102 |\n",
            "|    7    | 0.37516651733188927 |  1.7952327839398408 |\n",
            "|    9    |  0.3172758807295718 |  1.8646404006828026 |\n",
            "|    11   |  0.2979428019305176 |  1.839980598737815  |\n",
            "+---------+---------------------+---------------------+\n",
            "Image : 35\n",
            "+---------+---------------------+---------------------+\n",
            "| k_means |      F measure      | Conditional entropy |\n",
            "+---------+---------------------+---------------------+\n",
            "|    3    |  0.5714264325006583 |  1.1602717052561808 |\n",
            "|    5    | 0.39799825497990843 |  1.7126812349239162 |\n",
            "|    7    | 0.39437987790903384 |  1.9233624488347119 |\n",
            "|    9    |  0.3758889322178095 |  2.0124343714665693 |\n",
            "|    11   |  0.318728769074771  |  2.1730170357592873 |\n",
            "+---------+---------------------+---------------------+\n",
            "Image : 36\n",
            "+---------+---------------------+---------------------+\n",
            "| k_means |      F measure      | Conditional entropy |\n",
            "+---------+---------------------+---------------------+\n",
            "|    3    |  0.6471726776426802 |  1.3618326066820428 |\n",
            "|    5    | 0.49729332669893295 |  1.6262444021345857 |\n",
            "|    7    | 0.38074469052980486 |  1.8028825339009296 |\n",
            "|    9    | 0.37906904077822107 |  1.6878984342006202 |\n",
            "|    11   |  0.3751781223851293 |  1.6438494985268828 |\n",
            "+---------+---------------------+---------------------+\n",
            "Image : 37\n",
            "+---------+---------------------+---------------------+\n",
            "| k_means |      F measure      | Conditional entropy |\n",
            "+---------+---------------------+---------------------+\n",
            "|    3    |  0.7168536678633312 |  1.1506686974379239 |\n",
            "|    5    | 0.47723645910032547 |  1.4869563010003122 |\n",
            "|    7    | 0.42189646009012427 |  1.5496412390272096 |\n",
            "|    9    | 0.35609416926219467 |  1.7427115122736982 |\n",
            "|    11   |  0.3151990727064026 |  1.7896032495375154 |\n",
            "+---------+---------------------+---------------------+\n",
            "Image : 38\n",
            "+---------+---------------------+---------------------+\n",
            "| k_means |      F measure      | Conditional entropy |\n",
            "+---------+---------------------+---------------------+\n",
            "|    3    |  0.6783725964009513 |  1.0012088983868304 |\n",
            "|    5    |  0.5878564601313193 |  1.0468420942162404 |\n",
            "|    7    |  0.5240627706877918 |  1.0472532937141923 |\n",
            "|    9    |  0.5024591131166448 |  1.0512291526301358 |\n",
            "|    11   | 0.48203708757317143 |  1.0454016845858782 |\n",
            "+---------+---------------------+---------------------+\n",
            "Image : 39\n",
            "+---------+--------------------+---------------------+\n",
            "| k_means |     F measure      | Conditional entropy |\n",
            "+---------+--------------------+---------------------+\n",
            "|    3    | 0.7667999910942763 |  0.3944654016227756 |\n",
            "|    5    | 0.6151032382283034 | 0.47768439176774297 |\n",
            "|    7    | 0.5704479497886791 |  0.542233580615804  |\n",
            "|    9    | 0.5553248743006172 |  0.5881084380559353 |\n",
            "|    11   | 0.5472412568599674 |  0.6218243466979265 |\n",
            "+---------+--------------------+---------------------+\n",
            "Image : 40\n",
            "+---------+---------------------+---------------------+\n",
            "| k_means |      F measure      | Conditional entropy |\n",
            "+---------+---------------------+---------------------+\n",
            "|    3    |  0.6041871451227547 |  1.3137367389904868 |\n",
            "|    5    |  0.4406333885914076 |  1.3388126665640858 |\n",
            "|    7    | 0.42414965654791564 |  1.2682367185558887 |\n",
            "|    9    |  0.3858108081706248 |  1.2852625334910512 |\n",
            "|    11   | 0.39194438295634626 |  1.3107561557138752 |\n",
            "+---------+---------------------+---------------------+\n",
            "Image : 41\n",
            "+---------+---------------------+---------------------+\n",
            "| k_means |      F measure      | Conditional entropy |\n",
            "+---------+---------------------+---------------------+\n",
            "|    3    |  0.6282807708009133 |  1.3092922836861534 |\n",
            "|    5    | 0.36415724669904026 |  1.7087736285117194 |\n",
            "|    7    | 0.30710931677169984 |  1.9107906995646915 |\n",
            "|    9    | 0.26300329814150764 |  2.047107522707987  |\n",
            "|    11   |  0.2290039528856201 |  2.1371077332191035 |\n",
            "+---------+---------------------+---------------------+\n",
            "Image : 42\n",
            "+---------+---------------------+---------------------+\n",
            "| k_means |      F measure      | Conditional entropy |\n",
            "+---------+---------------------+---------------------+\n",
            "|    3    |  0.6335905823377284 |  1.2733503360652523 |\n",
            "|    5    | 0.41101717850215413 |  1.6964526912475582 |\n",
            "|    7    |  0.4382760977552544 |  1.6559340950876222 |\n",
            "|    9    |  0.393819808690974  |  1.6804687471916264 |\n",
            "|    11   |  0.3659456543638172 |  1.665598030190149  |\n",
            "+---------+---------------------+---------------------+\n",
            "Image : 43\n",
            "+---------+---------------------+---------------------+\n",
            "| k_means |      F measure      | Conditional entropy |\n",
            "+---------+---------------------+---------------------+\n",
            "|    3    |  0.6126241009304922 |  1.1270567767368067 |\n",
            "|    5    | 0.43277830456937855 |  1.4729551208053822 |\n",
            "|    7    | 0.36457703541475656 |  1.635431695971985  |\n",
            "|    9    |  0.3318369297204693 |  1.6769073463482866 |\n",
            "|    11   | 0.33228979684335663 |  1.6440663271512448 |\n",
            "+---------+---------------------+---------------------+\n",
            "Image : 44\n",
            "+---------+---------------------+---------------------+\n",
            "| k_means |      F measure      | Conditional entropy |\n",
            "+---------+---------------------+---------------------+\n",
            "|    3    |  0.575905742132922  |  1.3447362889495607 |\n",
            "|    5    |  0.3367183409716701 |  1.914101191770828  |\n",
            "|    7    | 0.32322021147667457 |  2.178871001809207  |\n",
            "|    9    |  0.2519620683697891 |  2.342295201803195  |\n",
            "|    11   | 0.23860311330881145 |  2.400104388223649  |\n",
            "+---------+---------------------+---------------------+\n",
            "Image : 45\n",
            "+---------+---------------------+---------------------+\n",
            "| k_means |      F measure      | Conditional entropy |\n",
            "+---------+---------------------+---------------------+\n",
            "|    3    |  0.5825308886024445 |  1.3413256745435835 |\n",
            "|    5    |  0.3779828735924761 |  1.8963325972586929 |\n",
            "|    7    | 0.31613417081982936 |  2.2103714017701916 |\n",
            "|    9    | 0.27671122238018553 |  2.330746048409872  |\n",
            "|    11   |  0.2592570477401935 |  2.398341928462396  |\n",
            "+---------+---------------------+---------------------+\n",
            "Image : 46\n",
            "+---------+---------------------+---------------------+\n",
            "| k_means |      F measure      | Conditional entropy |\n",
            "+---------+---------------------+---------------------+\n",
            "|    3    |  0.6254295899541956 |  1.2163869854433365 |\n",
            "|    5    | 0.49049377014533646 |  1.4149147491894627 |\n",
            "|    7    | 0.33531760256971976 |  1.641984474475339  |\n",
            "|    9    | 0.30325236220540325 |  1.7374383874296546 |\n",
            "|    11   | 0.26829359893298405 |  1.710487355282849  |\n",
            "+---------+---------------------+---------------------+\n",
            "Image : 47\n",
            "+---------+---------------------+---------------------+\n",
            "| k_means |      F measure      | Conditional entropy |\n",
            "+---------+---------------------+---------------------+\n",
            "|    3    |  0.6222797439110684 |  1.1540595840934265 |\n",
            "|    5    |  0.4026148487064751 |  1.3285235347390565 |\n",
            "|    7    | 0.33443761966781566 |  1.342267281732668  |\n",
            "|    9    |  0.3017611304838563 |  1.4074327567246767 |\n",
            "|    11   |  0.2816453430808645 |  1.398932809389123  |\n",
            "+---------+---------------------+---------------------+\n",
            "Image : 48\n",
            "+---------+---------------------+---------------------+\n",
            "| k_means |      F measure      | Conditional entropy |\n",
            "+---------+---------------------+---------------------+\n",
            "|    3    |  0.7009845211972703 |  1.2525540903385664 |\n",
            "|    5    |  0.5104433099250955 |  1.4180342443441227 |\n",
            "|    7    | 0.37597084409736425 |  1.4165732049183333 |\n",
            "|    9    |  0.3707646070349536 |  1.3433744826477507 |\n",
            "|    11   |  0.2971989006812776 |  1.3681501254171926 |\n",
            "+---------+---------------------+---------------------+\n",
            "Image : 49\n",
            "+---------+--------------------+---------------------+\n",
            "| k_means |     F measure      | Conditional entropy |\n",
            "+---------+--------------------+---------------------+\n",
            "|    3    | 0.5515719097561531 |  1.199789402795825  |\n",
            "|    5    | 0.4261281522448609 |  1.7010575597786228 |\n",
            "|    7    | 0.3587093797259119 |  1.876488035770858  |\n",
            "|    9    | 0.3238358764853676 |  1.972662409578874  |\n",
            "|    11   | 0.2829229662438237 |  1.990836712144952  |\n",
            "+---------+--------------------+---------------------+\n",
            "Image : 50\n",
            "+---------+--------------------+---------------------+\n",
            "| k_means |     F measure      | Conditional entropy |\n",
            "+---------+--------------------+---------------------+\n",
            "|    3    | 0.6733644312251663 |  1.3631672952462537 |\n",
            "|    5    | 0.5268994740329388 |  1.5200073901822297 |\n",
            "|    7    | 0.3445552358897519 |  1.794373655233382  |\n",
            "|    9    | 0.3081174912505677 |  1.7126373123850889 |\n",
            "|    11   | 0.252988501244602  |  1.8176481918448464 |\n",
            "+---------+--------------------+---------------------+\n"
          ]
        }
      ]
    },
    {
      "cell_type": "code",
      "source": [
        "from matplotlib import pyplot as plt\n",
        "import cv2\n",
        "def view_edges(image_num):\n",
        "  fig = plt.figure(figsize=(10,10))\n",
        "  data = io.loadmat('/content/gdrive/MyDrive/assigm2_data/ground_truth_test/ground_truth_test'+str(image_num))\n",
        "  rows = 1\n",
        "  columns = 1+len(data['groundTruth'][0])\n",
        "  original = cv2.imread('/content/gdrive/MyDrive/assigm2_data/test/test'+str(image_num)+'.jpg')\n",
        "  fig.add_subplot(rows, columns,1)\n",
        "  plt.imshow(original)\n",
        "  plt.axis('off')\n",
        "  for j in range(len(data['groundTruth'][0])):\n",
        "    edge = cv2.imread('/content/gdrive/MyDrive/assigm2_data/ground_truth_test/border_lines/ground_truth_test_border_lines'+str(image_num)+'_'+str(j)+'.jpg')\n",
        "    fig.add_subplot(rows, columns,1+j+1)\n",
        "    plt.imshow(edge)\n",
        "    plt.axis('off') \n",
        "\n",
        "  fig.savefig('/content/gdrive/MyDrive/assigm2_data/Figures/Original&edges/fig'+str(image_num)+'.jpg',bbox_inches='tight')\n",
        "    "
      ],
      "metadata": {
        "id": "wCbV56rqLd_5"
      },
      "execution_count": null,
      "outputs": []
    },
    {
      "cell_type": "code",
      "source": [
        "for i in range(50):\n",
        "  view_edges(i+1)"
      ],
      "metadata": {
        "id": "vgmsJbQhLkIV"
      },
      "execution_count": null,
      "outputs": []
    },
    {
      "cell_type": "code",
      "source": [
        "def view_kmeans(image_num):\n",
        "  fig = plt.figure(figsize=(12,3))\n",
        "  data = io.loadmat('/content/gdrive/MyDrive/assigm2_data/ground_truth_test/ground_truth_test'+str(image_num))\n",
        "  rows = 1\n",
        "  columns = 5\n",
        "  k=3\n",
        "  for i in range(1,6):\n",
        "    kmeans = cv2.imread('/content/gdrive/MyDrive/assigm2_data/ground_truth_test/images1/'+str(image_num)+'_kmeans__'+str(k)+'.jpg')\n",
        "    fig.add_subplot(rows, columns,i)\n",
        "    plt.imshow(kmeans)\n",
        "    plt.title('Kmeans, k= '+str(k))\n",
        "    plt.axis('off')\n",
        "    k=k+2 \n",
        "  fig.savefig('/content/gdrive/MyDrive/assigm2_data/Figures/Kmeans/fig'+str(image_num)+'.jpg',bbox_inches='tight')"
      ],
      "metadata": {
        "id": "-XIq7bsTV1hq"
      },
      "execution_count": null,
      "outputs": []
    },
    {
      "cell_type": "code",
      "source": [
        "for i in range (1,51):\n",
        "  view_kmeans(i)"
      ],
      "metadata": {
        "id": "E_fLOgG6V47C"
      },
      "execution_count": null,
      "outputs": []
    },
    {
      "cell_type": "code",
      "source": [
        "def view_kmeansAndGround(image_num):\n",
        "  fig = plt.figure(figsize=(12,3))\n",
        "  data = io.loadmat('/content/gdrive/MyDrive/assigm2_data/ground_truth_test/ground_truth_test'+str(image_num))\n",
        "  rows = 2\n",
        "  columns = 7\n",
        "  k=3\n",
        "  for i in range(1,6):\n",
        "    kmeans = cv2.imread('/content/gdrive/MyDrive/assigm2_data/ground_truth_test/images1/'+str(image_num)+'_kmeans__'+str(k)+'.jpg')\n",
        "    fig.add_subplot(rows, columns,i)\n",
        "    plt.imshow(kmeans)\n",
        "    plt.title('Kmeans, k= '+str(k))\n",
        "    plt.axis('off')\n",
        "    k=k+2 \n",
        "  for j in range(len(data['groundTruth'][0])):\n",
        "    edge = cv2.imread('/content/gdrive/MyDrive/assigm2_data/ground_truth_test/colored_segments/ground_truth_test_colored'+str(image_num)+'_'+str(j)+'.jpg')\n",
        "    fig.add_subplot(rows, columns,1+j+1+5+1)\n",
        "    plt.imshow(edge)\n",
        "    plt.axis('off')\n",
        "    plt.title('GT('+str(j+1)+')')\n",
        "\n",
        "  fig.savefig('/content/gdrive/MyDrive/assigm2_data/Figures/Kmeans&Ground/fig'+str(image_num)+'.jpg',bbox_inches='tight')"
      ],
      "metadata": {
        "id": "bpOHNZELe5WL"
      },
      "execution_count": null,
      "outputs": []
    },
    {
      "cell_type": "code",
      "source": [
        "view_kmeansAndGround(2)\n",
        "view_kmeansAndGround(3)\n",
        "view_kmeansAndGround(4)\n",
        "view_kmeansAndGround(20)\n",
        "view_kmeansAndGround(48)"
      ],
      "metadata": {
        "id": "Sx5qK-l1e9QG"
      },
      "execution_count": null,
      "outputs": []
    },
    {
      "cell_type": "code",
      "source": [
        "def view_groundAndNorm(image_num):\n",
        "  fig = plt.figure(figsize=(10,10))\n",
        "  data = io.loadmat('/content/gdrive/MyDrive/assigm2_data/ground_truth_test/ground_truth_test'+str(image_num))\n",
        "  rows = 1\n",
        "  columns = 1+len(data['groundTruth'][0])\n",
        "  normcut = cv2.imread('/content/gdrive/MyDrive/assigm2_data/normalized_cut/'+str(image_num)+'_Normcut.jpg')\n",
        "  fig.add_subplot(rows, columns,1)\n",
        "  plt.imshow(normcut)\n",
        "  plt.axis('off')\n",
        "  plt.title(\"Norm.cut\")\n",
        "  for j in range(len(data['groundTruth'][0])):\n",
        "    edge = cv2.imread('/content/gdrive/MyDrive/assigm2_data/ground_truth_test/colored_segments/ground_truth_test_colored'+str(image_num)+'_'+str(j)+'.jpg')\n",
        "    fig.add_subplot(rows, columns,1+j+1)\n",
        "    plt.imshow(edge)\n",
        "    plt.axis('off')\n",
        "    plt.title('GT('+str(j+1)+')')\n",
        "\n",
        "  fig.savefig('/content/gdrive/MyDrive/assigm2_data/Figures/Normalized&Ground/fig'+str(image_num)+'.jpg',bbox_inches='tight')\n"
      ],
      "metadata": {
        "id": "VZdhp3lHfu9A"
      },
      "execution_count": null,
      "outputs": []
    },
    {
      "cell_type": "code",
      "source": [
        "view_groundAndNorm(2)\n",
        "view_groundAndNorm(3)\n",
        "view_groundAndNorm(4)\n",
        "view_groundAndNorm(20)\n",
        "view_groundAndNorm(48)"
      ],
      "metadata": {
        "id": "xjEQxtuEfxpD"
      },
      "execution_count": null,
      "outputs": []
    },
    {
      "cell_type": "code",
      "source": [
        "def viewkmeansAndNormalized(num):\n",
        "  fig = plt.figure(figsize=(15,15))\n",
        "  rows = 1\n",
        "  columns = 6\n",
        "  normalized_cut = cv2.imread('/content/gdrive/MyDrive/assigm2_data/normalized_cut/'+str(num)+'_Normcut.jpg')\n",
        "  fig.add_subplot(rows, columns,1)  \n",
        "  plt.imshow(normalized_cut)\n",
        "  plt.axis('off')\n",
        "  plt.title('Normalized cut')\n",
        "  k=3\n",
        "  for j in range(2,7):\n",
        "    kmeans = cv2.imread('/content/gdrive/MyDrive/assigm2_data/ground_truth_test/images1/'+str(num)+'_kmeans__'+str(k)+'.jpg')\n",
        "    fig.add_subplot(rows, columns,j)\n",
        "    plt.imshow(kmeans)\n",
        "    plt.title('Kmeans, k= '+str(k))\n",
        "    plt.axis('off')\n",
        "    k=k+2\n",
        "  \n",
        "  fig.savefig('/content/gdrive/MyDrive/assigm2_data/Figures/Normalized&Kmeans/fig'+str(num)+'.jpg',bbox_inches='tight')"
      ],
      "metadata": {
        "id": "v2Ua3ZmXiTlv"
      },
      "execution_count": null,
      "outputs": []
    },
    {
      "cell_type": "code",
      "source": [
        "viewkmeansAndNormalized(2)\n",
        "viewkmeansAndNormalized(3)\n",
        "viewkmeansAndNormalized(4)\n",
        "viewkmeansAndNormalized(20)\n",
        "viewkmeansAndNormalized(48)"
      ],
      "metadata": {
        "id": "f-0MuB3iiXNY"
      },
      "execution_count": null,
      "outputs": []
    },
    {
      "cell_type": "code",
      "source": [
        "import cv2\n",
        "def kmeans_xy(image_num):\n",
        "  image = cv2.imread('/content/gdrive/MyDrive/assigm2_data/test/test'+str(image_num)+'.jpg')\n",
        "  image=np.array(image)\n",
        "  rows=image.shape[0]\n",
        "  col=image.shape[1]\n",
        "  x=[]\n",
        "  y=[]\n",
        "  for i in range (rows):\n",
        "    for j in range(col):\n",
        "      x.append(i)\n",
        "      y.append(j)\n",
        "  x= np.array(x).reshape(rows*col,1)\n",
        "  y=np.array(y).reshape(rows*col,1)\n",
        "  image = image.reshape(rows*col,3)\n",
        "  image = np.append(image,x,axis = 1)\n",
        "  image = np.append(image,y,axis = 1)\n",
        "  image=image.reshape(rows*col,5)\n",
        "  for k in range(3,12,2):\n",
        "    result=k_means(image,k)\n",
        "    result = result.reshape(rows,col)\n",
        "    mpimg.imsave('/content/gdrive/MyDrive/assigm2_data/kmeans_xy/img'+str(image_num)+'_k='+str(k)+'.jpg',result)  "
      ],
      "metadata": {
        "id": "gyW1svsbjgUD"
      },
      "execution_count": null,
      "outputs": []
    },
    {
      "cell_type": "code",
      "source": [
        "import numpy as np\n",
        "kmeans_xy(2)\n",
        "kmeans_xy(3)\n",
        "kmeans_xy(4)\n",
        "kmeans_xy(20)\n",
        "kmeans_xy(48)"
      ],
      "metadata": {
        "id": "a-TvbYW2jjNc"
      },
      "execution_count": null,
      "outputs": []
    },
    {
      "cell_type": "code",
      "source": [
        "def view_kmeans_xyAndGround(image_num):\n",
        "  fig = plt.figure(figsize=(12,3))\n",
        "  data = io.loadmat('/content/gdrive/MyDrive/assigm2_data/ground_truth_test/ground_truth_test'+str(image_num))\n",
        "  rows = 2\n",
        "  columns = 7\n",
        "  k=3\n",
        "  for i in range(1,6):\n",
        "    kmeans = cv2.imread('/content/gdrive/MyDrive/assigm2_data/kmeans_xy/img'+str(image_num)+'_k='+str(k)+'.jpg')\n",
        "    fig.add_subplot(rows, columns,i)\n",
        "    plt.imshow(kmeans)\n",
        "    plt.title('Kmeans, k= '+str(k))\n",
        "    plt.axis('off')\n",
        "    k=k+2 \n",
        "  for j in range(len(data['groundTruth'][0])):\n",
        "    edge = cv2.imread('/content/gdrive/MyDrive/assigm2_data/ground_truth_test/colored_segments/ground_truth_test_colored'+str(image_num)+'_'+str(j)+'.jpg')\n",
        "    fig.add_subplot(rows, columns,1+j+1+5+1)\n",
        "    plt.imshow(edge)\n",
        "    plt.axis('off')\n",
        "    plt.title('GT('+str(j+1)+')')\n",
        "\n",
        "  fig.savefig('/content/gdrive/MyDrive/assigm2_data/Figures/Kmeans_xy&Ground/fig'+str(image_num)+'.jpg',bbox_inches='tight')"
      ],
      "metadata": {
        "id": "vWJhy7xyjmVj"
      },
      "execution_count": null,
      "outputs": []
    },
    {
      "cell_type": "code",
      "source": [
        "view_kmeans_xyAndGround(2)\n",
        "view_kmeans_xyAndGround(3)\n",
        "view_kmeans_xyAndGround(4)\n",
        "view_kmeans_xyAndGround(20)\n",
        "view_kmeans_xyAndGround(48)"
      ],
      "metadata": {
        "id": "AxuCzrkbjqW4"
      },
      "execution_count": null,
      "outputs": []
    }
  ],
  "metadata": {
    "colab": {
      "collapsed_sections": [],
      "name": "Image Segmentation.ipynb",
      "provenance": []
    },
    "kernelspec": {
      "display_name": "Python 3",
      "name": "python3"
    },
    "language_info": {
      "name": "python"
    }
  },
  "nbformat": 4,
  "nbformat_minor": 0
}